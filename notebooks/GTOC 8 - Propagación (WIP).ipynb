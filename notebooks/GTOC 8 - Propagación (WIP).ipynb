{
 "cells": [
  {
   "cell_type": "code",
   "execution_count": 1,
   "metadata": {
    "collapsed": true
   },
   "outputs": [],
   "source": [
    "%matplotlib inline\n",
    "import numpy as np\n",
    "import matplotlib.pyplot as plt"
   ]
  },
  {
   "cell_type": "code",
   "execution_count": 2,
   "metadata": {
    "collapsed": true
   },
   "outputs": [],
   "source": [
    "from astropy import units as u\n",
    "from poliastro.twobody import State\n",
    "from poliastro.bodies import Earth\n",
    "Earth.k = 398600.4329 * u.km**3 / u.s**2  # GTOC 8"
   ]
  },
  {
   "cell_type": "code",
   "execution_count": 3,
   "metadata": {
    "collapsed": true
   },
   "outputs": [],
   "source": [
    "import sys\n",
    "sys.path.insert(0, \"..\")\n",
    "from gtoc8 import lib, io\n",
    "from gtoc8.integrate import *"
   ]
  },
  {
   "cell_type": "code",
   "execution_count": 4,
   "metadata": {
    "collapsed": true
   },
   "outputs": [],
   "source": [
    "import importlib"
   ]
  },
  {
   "cell_type": "code",
   "execution_count": 5,
   "metadata": {
    "collapsed": false
   },
   "outputs": [
    {
     "data": {
      "text/html": [
       "<div style=\"max-height:1000px;max-width:1500px;overflow:auto;\">\n",
       "<table border=\"1\" class=\"dataframe\">\n",
       "  <thead>\n",
       "    <tr style=\"text-align: right;\">\n",
       "      <th></th>\n",
       "      <th>RA (deg)</th>\n",
       "      <th>DEC (deg)</th>\n",
       "    </tr>\n",
       "  </thead>\n",
       "  <tbody>\n",
       "    <tr>\n",
       "      <th>1</th>\n",
       "      <td>359.92065</td>\n",
       "      <td>-88.78955</td>\n",
       "    </tr>\n",
       "    <tr>\n",
       "      <th>2</th>\n",
       "      <td>356.91670</td>\n",
       "      <td>-80.27817</td>\n",
       "    </tr>\n",
       "    <tr>\n",
       "      <th>3</th>\n",
       "      <td>64.09616</td>\n",
       "      <td>-79.25290</td>\n",
       "    </tr>\n",
       "    <tr>\n",
       "      <th>4</th>\n",
       "      <td>118.90179</td>\n",
       "      <td>-80.08681</td>\n",
       "    </tr>\n",
       "    <tr>\n",
       "      <th>5</th>\n",
       "      <td>181.02500</td>\n",
       "      <td>-82.32760</td>\n",
       "    </tr>\n",
       "  </tbody>\n",
       "</table>\n",
       "</div>"
      ],
      "text/plain": [
       "    RA (deg)  DEC (deg)\n",
       "1  359.92065  -88.78955\n",
       "2  356.91670  -80.27817\n",
       "3   64.09616  -79.25290\n",
       "4  118.90179  -80.08681\n",
       "5  181.02500  -82.32760"
      ]
     },
     "execution_count": 5,
     "metadata": {},
     "output_type": "execute_result"
    }
   ],
   "source": [
    "catalogue = io.load_catalogue(\"../data/gtoc8_radiosources.txt\")\n",
    "catalogue.head()"
   ]
  },
  {
   "cell_type": "markdown",
   "metadata": {},
   "source": [
    "# Estado inicial\n",
    "\n",
    "Los tres son iguales"
   ]
  },
  {
   "cell_type": "code",
   "execution_count": 5,
   "metadata": {
    "collapsed": true
   },
   "outputs": [],
   "source": [
    "ss_A0 = State.circular(Earth, 400 * u.km)\n",
    "ss_B0 = State.circular(Earth, 400 * u.km)\n",
    "ss_C0 = State.circular(Earth, 400 * u.km)"
   ]
  },
  {
   "cell_type": "code",
   "execution_count": 6,
   "metadata": {
    "collapsed": false
   },
   "outputs": [
    {
     "data": {
      "text/latex": [
       "$1.5426731 \\; \\mathrm{h}$"
      ],
      "text/plain": [
       "<Quantity 1.5426730845104508 h>"
      ]
     },
     "execution_count": 6,
     "metadata": {},
     "output_type": "execute_result"
    }
   ],
   "source": [
    "initial_period = ss_A0.period\n",
    "initial_period.to(u.h)"
   ]
  },
  {
   "cell_type": "markdown",
   "metadata": {},
   "source": [
    "Creamos el vector de tiempos: de 0 a 280 días (diez períodos lunares)"
   ]
  },
  {
   "cell_type": "code",
   "execution_count": 7,
   "metadata": {
    "collapsed": false
   },
   "outputs": [
    {
     "name": "stdout",
     "output_type": "stream",
     "text": [
      "0.806401612803 min\n"
     ]
    }
   ],
   "source": [
    "t = np.linspace(0 * u.h, 280 * u.day, 500000)\n",
    "print (t[1] - t[0]).to(u.minute)"
   ]
  },
  {
   "cell_type": "markdown",
   "metadata": {},
   "source": [
    "Probamos a dar una maniobra a los tres satélites desfasada $T / 3$."
   ]
  },
  {
   "cell_type": "code",
   "execution_count": 8,
   "metadata": {
    "collapsed": true
   },
   "outputs": [],
   "source": [
    "from poliastro.maneuver import Maneuver\n",
    "from poliastro.util import norm"
   ]
  },
  {
   "cell_type": "code",
   "execution_count": 9,
   "metadata": {
    "collapsed": true
   },
   "outputs": [],
   "source": [
    "max_dv = 3 * u.km / u.s"
   ]
  },
  {
   "cell_type": "code",
   "execution_count": 10,
   "metadata": {
    "collapsed": false
   },
   "outputs": [
    {
     "data": {
      "text/plain": [
       "(<Quantity 0.0 s>, <Quantity [ 0., 3., 0.] km / s>)"
      ]
     },
     "execution_count": 10,
     "metadata": {},
     "output_type": "execute_result"
    }
   ],
   "source": [
    "# Maniobra en el plano\n",
    "vec_A = ss_A0.v\n",
    "man_A = Maneuver.impulse(vec_A / norm(vec_A) * max_dv)\n",
    "man_A.impulses[0]"
   ]
  },
  {
   "cell_type": "code",
   "execution_count": 11,
   "metadata": {
    "collapsed": false
   },
   "outputs": [
    {
     "data": {
      "text/latex": [
       "$3 \\; \\mathrm{\\frac{km}{s}}$"
      ],
      "text/plain": [
       "<Quantity 3.0 km / s>"
      ]
     },
     "execution_count": 11,
     "metadata": {},
     "output_type": "execute_result"
    }
   ],
   "source": [
    "man_A.get_total_cost()"
   ]
  },
  {
   "cell_type": "code",
   "execution_count": 12,
   "metadata": {
    "collapsed": false
   },
   "outputs": [
    {
     "data": {
      "text/plain": [
       "(<Quantity 1851.207701412541 s>,\n",
       " <Quantity [-2.41951897,-1.39690993, 1.09296413] km / s>)"
      ]
     },
     "execution_count": 12,
     "metadata": {},
     "output_type": "execute_result"
    }
   ],
   "source": [
    "# Maniobra con componente vertical hacia arriba\n",
    "vec_B = ss_B0.propagate(initial_period / 3).v + [0, 0, 3] * u.km / u.s\n",
    "man_B = Maneuver((initial_period / 3, vec_B / norm(vec_B) * max_dv))\n",
    "tuple(_.decompose([u.km, u.s]) for _ in man_B[0])"
   ]
  },
  {
   "cell_type": "code",
   "execution_count": 13,
   "metadata": {
    "collapsed": false
   },
   "outputs": [
    {
     "data": {
      "text/latex": [
       "$3 \\; \\mathrm{\\frac{km}{s}}$"
      ],
      "text/plain": [
       "<Quantity 3.0 km / s>"
      ]
     },
     "execution_count": 13,
     "metadata": {},
     "output_type": "execute_result"
    }
   ],
   "source": [
    "man_B.get_total_cost()"
   ]
  },
  {
   "cell_type": "code",
   "execution_count": 14,
   "metadata": {
    "collapsed": false
   },
   "outputs": [
    {
     "data": {
      "text/plain": [
       "(<Quantity 3702.415402825082 s>,\n",
       " <Quantity [ 2.41951897,-1.39690993,-1.09296413] km / s>)"
      ]
     },
     "execution_count": 14,
     "metadata": {},
     "output_type": "execute_result"
    }
   ],
   "source": [
    "# Maniobra con componente vertical hacia abajo\n",
    "vec_C = ss_C0.propagate(2 * initial_period / 3).v + [0, 0, -3] * u.km / u.s\n",
    "man_C = Maneuver((2 * initial_period / 3, vec_C / norm(vec_C) * max_dv))\n",
    "tuple(_.decompose([u.km, u.s]) for _ in man_C[0])"
   ]
  },
  {
   "cell_type": "code",
   "execution_count": 15,
   "metadata": {
    "collapsed": false
   },
   "outputs": [
    {
     "data": {
      "text/latex": [
       "$3 \\; \\mathrm{\\frac{km}{s}}$"
      ],
      "text/plain": [
       "<Quantity 3.0 km / s>"
      ]
     },
     "execution_count": 15,
     "metadata": {},
     "output_type": "execute_result"
    }
   ],
   "source": [
    "man_C.get_total_cost()"
   ]
  },
  {
   "cell_type": "code",
   "execution_count": 16,
   "metadata": {
    "collapsed": false
   },
   "outputs": [],
   "source": [
    "ss_A = ss_A0.apply_maneuver(man_A).propagate(initial_period)\n",
    "ss_B = ss_B0.apply_maneuver(man_B).propagate(2 * initial_period / 3)\n",
    "ss_C = ss_C0.apply_maneuver(man_C).propagate(initial_period / 3)"
   ]
  },
  {
   "cell_type": "code",
   "execution_count": 6,
   "metadata": {
    "collapsed": true
   },
   "outputs": [],
   "source": [
    "from poliastro.plotting import OrbitPlotter"
   ]
  },
  {
   "cell_type": "code",
   "execution_count": 7,
   "metadata": {
    "collapsed": false
   },
   "outputs": [],
   "source": [
    "SIMULATION_NUMBER = 2\n",
    "conf = importlib.import_module(\"gtoc8.simulations.conf%d.conf\" % SIMULATION_NUMBER)"
   ]
  },
  {
   "cell_type": "code",
   "execution_count": 8,
   "metadata": {
    "collapsed": false
   },
   "outputs": [],
   "source": [
    "ss_A, ss_B, ss_C, t = conf.config()"
   ]
  },
  {
   "cell_type": "code",
   "execution_count": 9,
   "metadata": {
    "collapsed": false
   },
   "outputs": [
    {
     "data": {
      "image/png": "[encoded data removed]",
      "text/plain": [
       "<matplotlib.figure.Figure at 0x7f93a4a16110>"
      ]
     },
     "metadata": {},
     "output_type": "display_data"
    }
   ],
   "source": [
    "with plt.style.context(\"pybonacci\"):\n",
    "    op = OrbitPlotter()\n",
    "    op.plot(ss_A)\n",
    "    op.plot(ss_B)\n",
    "    op.plot(ss_C)"
   ]
  },
  {
   "cell_type": "code",
   "execution_count": 10,
   "metadata": {
    "collapsed": false
   },
   "outputs": [
    {
     "data": {
      "text/plain": [
       "51544.51606951129"
      ]
     },
     "execution_count": 10,
     "metadata": {},
     "output_type": "execute_result"
    }
   ],
   "source": [
    "ss_A.epoch.mjd"
   ]
  },
  {
   "cell_type": "code",
   "execution_count": 11,
   "metadata": {
    "collapsed": false
   },
   "outputs": [
    {
     "data": {
      "text/plain": [
       "51544.51606951129"
      ]
     },
     "execution_count": 11,
     "metadata": {},
     "output_type": "execute_result"
    }
   ],
   "source": [
    "ss_B.epoch.mjd"
   ]
  },
  {
   "cell_type": "code",
   "execution_count": 12,
   "metadata": {
    "collapsed": false
   },
   "outputs": [
    {
     "data": {
      "text/plain": [
       "51544.51606951129"
      ]
     },
     "execution_count": 12,
     "metadata": {},
     "output_type": "execute_result"
    }
   ],
   "source": [
    "ss_C.epoch.mjd"
   ]
  },
  {
   "cell_type": "code",
   "execution_count": 13,
   "metadata": {
    "collapsed": false
   },
   "outputs": [
    {
     "data": {
      "text/latex": [
       "$0 \\; \\mathrm{{}^{\\circ}}$"
      ],
      "text/plain": [
       "<Quantity 0.0 deg>"
      ]
     },
     "execution_count": 13,
     "metadata": {},
     "output_type": "execute_result"
    }
   ],
   "source": [
    "ss_A.inc"
   ]
  },
  {
   "cell_type": "code",
   "execution_count": 16,
   "metadata": {
    "collapsed": false
   },
   "outputs": [
    {
     "data": {
      "text/latex": [
       "$[336.31353,~7223.6335,~2825.9418] \\; \\mathrm{km}$"
      ],
      "text/plain": [
       "<Quantity [  336.31352683, 7223.63348025, 2825.94179876] km>"
      ]
     },
     "execution_count": 16,
     "metadata": {},
     "output_type": "execute_result"
    }
   ],
   "source": [
    "ss_B.r"
   ]
  },
  {
   "cell_type": "code",
   "execution_count": 17,
   "metadata": {
    "collapsed": false
   },
   "outputs": [
    {
     "data": {
      "text/latex": [
       "$[33.258364,~6860.9771,~-2163.8088] \\; \\mathrm{km}$"
      ],
      "text/plain": [
       "<Quantity [   33.25836368, 6860.97714114,-2163.80883736] km>"
      ]
     },
     "execution_count": 17,
     "metadata": {},
     "output_type": "execute_result"
    }
   ],
   "source": [
    "ss_C.r"
   ]
  },
  {
   "cell_type": "markdown",
   "metadata": {},
   "source": [
    "<div class=\"alert alert-info\">**Nota**: Esto es una proyección (ya hemos visto que las maniobras tenían una componente fuera del plano). Para visualizar esto en tres dimensiones, vamos a utilizar las funciones creadas a tal efecto.</div>"
   ]
  },
  {
   "cell_type": "code",
   "execution_count": 144,
   "metadata": {
    "collapsed": true
   },
   "outputs": [],
   "source": [
    "from gtoc8.visual import plot_gtoc8"
   ]
  },
  {
   "cell_type": "code",
   "execution_count": 145,
   "metadata": {
    "collapsed": false
   },
   "outputs": [],
   "source": [
    "def state_to_vector(ss):\n",
    "    x0, y0, z0 = ss.r.to(u.km).value\n",
    "    vx0, vy0, vz0 = ss.v.to(u.km / u.s).value\n",
    "    return np.array([x0, y0, z0, vx0, vy0, vz0])"
   ]
  },
  {
   "cell_type": "code",
   "execution_count": 146,
   "metadata": {
    "collapsed": false
   },
   "outputs": [],
   "source": [
    "s1 = state_to_vector(ss_A)[:3]\n",
    "s2 = state_to_vector(ss_B)[:3]\n",
    "s3 = state_to_vector(ss_C)[:3]"
   ]
  },
  {
   "cell_type": "code",
   "execution_count": 147,
   "metadata": {
    "collapsed": false
   },
   "outputs": [
    {
     "data": {
      "application/javascript": [
       "/* Put everything inside the global mpl namespace */\n",
       "window.mpl = {};\n",
       "\n",
       "mpl.get_websocket_type = function() {\n",
       "    if (typeof(WebSocket) !== 'undefined') {\n",
       "        return WebSocket;\n",
       "    } else if (typeof(MozWebSocket) !== 'undefined') {\n",
       "        return MozWebSocket;\n",
       "    } else {\n",
       "        alert('Your browser does not have WebSocket support.' +\n",
       "              'Please try Chrome, Safari or Firefox ≥ 6. ' +\n",
       "              'Firefox 4 and 5 are also supported but you ' +\n",
       "              'have to enable WebSockets in about:config.');\n",
       "    };\n",
       "}\n",
       "\n",
       "mpl.figure = function(figure_id, websocket, ondownload, parent_element) {\n",
       "    this.id = figure_id;\n",
       "\n",
       "    this.ws = websocket;\n",
       "\n",
       "    this.supports_binary = (this.ws.binaryType != undefined);\n",
       "\n",
       "    if (!this.supports_binary) {\n",
       "        var warnings = document.getElementById(\"mpl-warnings\");\n",
       "        if (warnings) {\n",
       "            warnings.style.display = 'block';\n",
       "            warnings.textContent = (\n",
       "                \"This browser does not support binary websocket messages. \" +\n",
       "                    \"Performance may be slow.\");\n",
       "        }\n",
       "    }\n",
       "\n",
       "    this.imageObj = new Image();\n",
       "\n",
       "    this.context = undefined;\n",
       "    this.message = undefined;\n",
       "    this.canvas = undefined;\n",
       "    this.rubberband_canvas = undefined;\n",
       "    this.rubberband_context = undefined;\n",
       "    this.format_dropdown = undefined;\n",
       "\n",
       "    this.image_mode = 'full';\n",
       "\n",
       "    this.root = $('<div/>');\n",
       "    this._root_extra_style(this.root)\n",
       "    this.root.attr('style', 'display: inline-block');\n",
       "\n",
       "    $(parent_element).append(this.root);\n",
       "\n",
       "    this._init_header(this);\n",
       "    this._init_canvas(this);\n",
       "    this._init_toolbar(this);\n",
       "\n",
       "    var fig = this;\n",
       "\n",
       "    this.waiting = false;\n",
       "\n",
       "    this.ws.onopen =  function () {\n",
       "            fig.send_message(\"supports_binary\", {value: fig.supports_binary});\n",
       "            fig.send_message(\"send_image_mode\", {});\n",
       "            fig.send_message(\"refresh\", {});\n",
       "        }\n",
       "\n",
       "    this.imageObj.onload = function() {\n",
       "            if (fig.image_mode == 'full') {\n",
       "                // Full images could contain transparency (where diff images\n",
       "                // almost always do), so we need to clear the canvas so that\n",
       "                // there is no ghosting.\n",
       "                fig.context.clearRect(0, 0, fig.canvas.width, fig.canvas.height);\n",
       "            }\n",
       "            fig.context.drawImage(fig.imageObj, 0, 0);\n",
       "            fig.waiting = false;\n",
       "        };\n",
       "\n",
       "    this.imageObj.onunload = function() {\n",
       "        this.ws.close();\n",
       "    }\n",
       "\n",
       "    this.ws.onmessage = this._make_on_message_function(this);\n",
       "\n",
       "    this.ondownload = ondownload;\n",
       "}\n",
       "\n",
       "mpl.figure.prototype._init_header = function() {\n",
       "    var titlebar = $(\n",
       "        '<div class=\"ui-dialog-titlebar ui-widget-header ui-corner-all ' +\n",
       "        'ui-helper-clearfix\"/>');\n",
       "    var titletext = $(\n",
       "        '<div class=\"ui-dialog-title\" style=\"width: 100%; ' +\n",
       "        'text-align: center; padding: 3px;\"/>');\n",
       "    titlebar.append(titletext)\n",
       "    this.root.append(titlebar);\n",
       "    this.header = titletext[0];\n",
       "}\n",
       "\n",
       "\n",
       "\n",
       "mpl.figure.prototype._canvas_extra_style = function(canvas_div) {\n",
       "\n",
       "}\n",
       "\n",
       "\n",
       "mpl.figure.prototype._root_extra_style = function(canvas_div) {\n",
       "\n",
       "}\n",
       "\n",
       "mpl.figure.prototype._init_canvas = function() {\n",
       "    var fig = this;\n",
       "\n",
       "    var canvas_div = $('<div/>');\n",
       "\n",
       "    canvas_div.attr('style', 'position: relative; clear: both; outline: 0');\n",
       "\n",
       "    function canvas_keyboard_event(event) {\n",
       "        return fig.key_event(event, event['data']);\n",
       "    }\n",
       "\n",
       "    canvas_div.keydown('key_press', canvas_keyboard_event);\n",
       "    canvas_div.keyup('key_release', canvas_keyboard_event);\n",
       "    this.canvas_div = canvas_div\n",
       "    this._canvas_extra_style(canvas_div)\n",
       "    this.root.append(canvas_div);\n",
       "\n",
       "    var canvas = $('<canvas/>');\n",
       "    canvas.addClass('mpl-canvas');\n",
       "    canvas.attr('style', \"left: 0; top: 0; z-index: 0; outline: 0\")\n",
       "\n",
       "    this.canvas = canvas[0];\n",
       "    this.context = canvas[0].getContext(\"2d\");\n",
       "\n",
       "    var rubberband = $('<canvas/>');\n",
       "    rubberband.attr('style', \"position: absolute; left: 0; top: 0; z-index: 1;\")\n",
       "\n",
       "    var pass_mouse_events = true;\n",
       "\n",
       "    canvas_div.resizable({\n",
       "        start: function(event, ui) {\n",
       "            pass_mouse_events = false;\n",
       "        },\n",
       "        resize: function(event, ui) {\n",
       "            fig.request_resize(ui.size.width, ui.size.height);\n",
       "        },\n",
       "        stop: function(event, ui) {\n",
       "            pass_mouse_events = true;\n",
       "            fig.request_resize(ui.size.width, ui.size.height);\n",
       "        },\n",
       "    });\n",
       "\n",
       "    function mouse_event_fn(event) {\n",
       "        if (pass_mouse_events)\n",
       "            return fig.mouse_event(event, event['data']);\n",
       "    }\n",
       "\n",
       "    rubberband.mousedown('button_press', mouse_event_fn);\n",
       "    rubberband.mouseup('button_release', mouse_event_fn);\n",
       "    // Throttle sequential mouse events to 1 every 20ms.\n",
       "    rubberband.mousemove('motion_notify', mouse_event_fn);\n",
       "\n",
       "    rubberband.mouseenter('figure_enter', mouse_event_fn);\n",
       "    rubberband.mouseleave('figure_leave', mouse_event_fn);\n",
       "\n",
       "    canvas_div.on(\"wheel\", function (event) {\n",
       "        event = event.originalEvent;\n",
       "        event['data'] = 'scroll'\n",
       "        if (event.deltaY < 0) {\n",
       "            event.step = 1;\n",
       "        } else {\n",
       "            event.step = -1;\n",
       "        }\n",
       "        mouse_event_fn(event);\n",
       "    });\n",
       "\n",
       "    canvas_div.append(canvas);\n",
       "    canvas_div.append(rubberband);\n",
       "\n",
       "    this.rubberband = rubberband;\n",
       "    this.rubberband_canvas = rubberband[0];\n",
       "    this.rubberband_context = rubberband[0].getContext(\"2d\");\n",
       "    this.rubberband_context.strokeStyle = \"#000000\";\n",
       "\n",
       "    this._resize_canvas = function(width, height) {\n",
       "        // Keep the size of the canvas, canvas container, and rubber band\n",
       "        // canvas in synch.\n",
       "        canvas_div.css('width', width)\n",
       "        canvas_div.css('height', height)\n",
       "\n",
       "        canvas.attr('width', width);\n",
       "        canvas.attr('height', height);\n",
       "\n",
       "        rubberband.attr('width', width);\n",
       "        rubberband.attr('height', height);\n",
       "    }\n",
       "\n",
       "    // Set the figure to an initial 600x600px, this will subsequently be updated\n",
       "    // upon first draw.\n",
       "    this._resize_canvas(600, 600);\n",
       "\n",
       "    // Disable right mouse context menu.\n",
       "    $(this.rubberband_canvas).bind(\"contextmenu\",function(e){\n",
       "        return false;\n",
       "    });\n",
       "\n",
       "    function set_focus () {\n",
       "        canvas.focus();\n",
       "        canvas_div.focus();\n",
       "    }\n",
       "\n",
       "    window.setTimeout(set_focus, 100);\n",
       "}\n",
       "\n",
       "mpl.figure.prototype._init_toolbar = function() {\n",
       "    var fig = this;\n",
       "\n",
       "    var nav_element = $('<div/>')\n",
       "    nav_element.attr('style', 'width: 100%');\n",
       "    this.root.append(nav_element);\n",
       "\n",
       "    // Define a callback function for later on.\n",
       "    function toolbar_event(event) {\n",
       "        return fig.toolbar_button_onclick(event['data']);\n",
       "    }\n",
       "    function toolbar_mouse_event(event) {\n",
       "        return fig.toolbar_button_onmouseover(event['data']);\n",
       "    }\n",
       "\n",
       "    for(var toolbar_ind in mpl.toolbar_items) {\n",
       "        var name = mpl.toolbar_items[toolbar_ind][0];\n",
       "        var tooltip = mpl.toolbar_items[toolbar_ind][1];\n",
       "        var image = mpl.toolbar_items[toolbar_ind][2];\n",
       "        var method_name = mpl.toolbar_items[toolbar_ind][3];\n",
       "\n",
       "        if (!name) {\n",
       "            // put a spacer in here.\n",
       "            continue;\n",
       "        }\n",
       "        var button = $('<button/>');\n",
       "        button.addClass('ui-button ui-widget ui-state-default ui-corner-all ' +\n",
       "                        'ui-button-icon-only');\n",
       "        button.attr('role', 'button');\n",
       "        button.attr('aria-disabled', 'false');\n",
       "        button.click(method_name, toolbar_event);\n",
       "        button.mouseover(tooltip, toolbar_mouse_event);\n",
       "\n",
       "        var icon_img = $('<span/>');\n",
       "        icon_img.addClass('ui-button-icon-primary ui-icon');\n",
       "        icon_img.addClass(image);\n",
       "        icon_img.addClass('ui-corner-all');\n",
       "\n",
       "        var tooltip_span = $('<span/>');\n",
       "        tooltip_span.addClass('ui-button-text');\n",
       "        tooltip_span.html(tooltip);\n",
       "\n",
       "        button.append(icon_img);\n",
       "        button.append(tooltip_span);\n",
       "\n",
       "        nav_element.append(button);\n",
       "    }\n",
       "\n",
       "    var fmt_picker_span = $('<span/>');\n",
       "\n",
       "    var fmt_picker = $('<select/>');\n",
       "    fmt_picker.addClass('mpl-toolbar-option ui-widget ui-widget-content');\n",
       "    fmt_picker_span.append(fmt_picker);\n",
       "    nav_element.append(fmt_picker_span);\n",
       "    this.format_dropdown = fmt_picker[0];\n",
       "\n",
       "    for (var ind in mpl.extensions) {\n",
       "        var fmt = mpl.extensions[ind];\n",
       "        var option = $(\n",
       "            '<option/>', {selected: fmt === mpl.default_extension}).html(fmt);\n",
       "        fmt_picker.append(option)\n",
       "    }\n",
       "\n",
       "    // Add hover states to the ui-buttons\n",
       "    $( \".ui-button\" ).hover(\n",
       "        function() { $(this).addClass(\"ui-state-hover\");},\n",
       "        function() { $(this).removeClass(\"ui-state-hover\");}\n",
       "    );\n",
       "\n",
       "    var status_bar = $('<span class=\"mpl-message\"/>');\n",
       "    nav_element.append(status_bar);\n",
       "    this.message = status_bar[0];\n",
       "}\n",
       "\n",
       "mpl.figure.prototype.request_resize = function(x_pixels, y_pixels) {\n",
       "    // Request matplotlib to resize the figure. Matplotlib will then trigger a resize in the client,\n",
       "    // which will in turn request a refresh of the image.\n",
       "    this.send_message('resize', {'width': x_pixels, 'height': y_pixels});\n",
       "}\n",
       "\n",
       "mpl.figure.prototype.send_message = function(type, properties) {\n",
       "    properties['type'] = type;\n",
       "    properties['figure_id'] = this.id;\n",
       "    this.ws.send(JSON.stringify(properties));\n",
       "}\n",
       "\n",
       "mpl.figure.prototype.send_draw_message = function() {\n",
       "    if (!this.waiting) {\n",
       "        this.waiting = true;\n",
       "        this.ws.send(JSON.stringify({type: \"draw\", figure_id: this.id}));\n",
       "    }\n",
       "}\n",
       "\n",
       "\n",
       "mpl.figure.prototype.handle_save = function(fig, msg) {\n",
       "    var format_dropdown = fig.format_dropdown;\n",
       "    var format = format_dropdown.options[format_dropdown.selectedIndex].value;\n",
       "    fig.ondownload(fig, format);\n",
       "}\n",
       "\n",
       "\n",
       "mpl.figure.prototype.handle_resize = function(fig, msg) {\n",
       "    var size = msg['size'];\n",
       "    if (size[0] != fig.canvas.width || size[1] != fig.canvas.height) {\n",
       "        fig._resize_canvas(size[0], size[1]);\n",
       "        fig.send_message(\"refresh\", {});\n",
       "    };\n",
       "}\n",
       "\n",
       "mpl.figure.prototype.handle_rubberband = function(fig, msg) {\n",
       "    var x0 = msg['x0'];\n",
       "    var y0 = fig.canvas.height - msg['y0'];\n",
       "    var x1 = msg['x1'];\n",
       "    var y1 = fig.canvas.height - msg['y1'];\n",
       "    x0 = Math.floor(x0) + 0.5;\n",
       "    y0 = Math.floor(y0) + 0.5;\n",
       "    x1 = Math.floor(x1) + 0.5;\n",
       "    y1 = Math.floor(y1) + 0.5;\n",
       "    var min_x = Math.min(x0, x1);\n",
       "    var min_y = Math.min(y0, y1);\n",
       "    var width = Math.abs(x1 - x0);\n",
       "    var height = Math.abs(y1 - y0);\n",
       "\n",
       "    fig.rubberband_context.clearRect(\n",
       "        0, 0, fig.canvas.width, fig.canvas.height);\n",
       "\n",
       "    fig.rubberband_context.strokeRect(min_x, min_y, width, height);\n",
       "}\n",
       "\n",
       "mpl.figure.prototype.handle_figure_label = function(fig, msg) {\n",
       "    // Updates the figure title.\n",
       "    fig.header.textContent = msg['label'];\n",
       "}\n",
       "\n",
       "mpl.figure.prototype.handle_cursor = function(fig, msg) {\n",
       "    var cursor = msg['cursor'];\n",
       "    switch(cursor)\n",
       "    {\n",
       "    case 0:\n",
       "        cursor = 'pointer';\n",
       "        break;\n",
       "    case 1:\n",
       "        cursor = 'default';\n",
       "        break;\n",
       "    case 2:\n",
       "        cursor = 'crosshair';\n",
       "        break;\n",
       "    case 3:\n",
       "        cursor = 'move';\n",
       "        break;\n",
       "    }\n",
       "    fig.rubberband_canvas.style.cursor = cursor;\n",
       "}\n",
       "\n",
       "mpl.figure.prototype.handle_message = function(fig, msg) {\n",
       "    fig.message.textContent = msg['message'];\n",
       "}\n",
       "\n",
       "mpl.figure.prototype.handle_draw = function(fig, msg) {\n",
       "    // Request the server to send over a new figure.\n",
       "    fig.send_draw_message();\n",
       "}\n",
       "\n",
       "mpl.figure.prototype.handle_image_mode = function(fig, msg) {\n",
       "    fig.image_mode = msg['mode'];\n",
       "}\n",
       "\n",
       "mpl.figure.prototype.updated_canvas_event = function() {\n",
       "    // Called whenever the canvas gets updated.\n",
       "    this.send_message(\"ack\", {});\n",
       "}\n",
       "\n",
       "// A function to construct a web socket function for onmessage handling.\n",
       "// Called in the figure constructor.\n",
       "mpl.figure.prototype._make_on_message_function = function(fig) {\n",
       "    return function socket_on_message(evt) {\n",
       "        if (evt.data instanceof Blob) {\n",
       "            /* FIXME: We get \"Resource interpreted as Image but\n",
       "             * transferred with MIME type text/plain:\" errors on\n",
       "             * Chrome.  But how to set the MIME type?  It doesn't seem\n",
       "             * to be part of the websocket stream */\n",
       "            evt.data.type = \"image/png\";\n",
       "\n",
       "            /* Free the memory for the previous frames */\n",
       "            if (fig.imageObj.src) {\n",
       "                (window.URL || window.webkitURL).revokeObjectURL(\n",
       "                    fig.imageObj.src);\n",
       "            }\n",
       "\n",
       "            fig.imageObj.src = (window.URL || window.webkitURL).createObjectURL(\n",
       "                evt.data);\n",
       "            fig.updated_canvas_event();\n",
       "            return;\n",
       "        }\n",
       "        else if (typeof evt.data === 'string' && evt.data.slice(0, 21) == \"data:image/png;base64\") {\n",
       "            fig.imageObj.src = evt.data;\n",
       "            fig.updated_canvas_event();\n",
       "            return;\n",
       "        }\n",
       "\n",
       "        var msg = JSON.parse(evt.data);\n",
       "        var msg_type = msg['type'];\n",
       "\n",
       "        // Call the  \"handle_{type}\" callback, which takes\n",
       "        // the figure and JSON message as its only arguments.\n",
       "        try {\n",
       "            var callback = fig[\"handle_\" + msg_type];\n",
       "        } catch (e) {\n",
       "            console.log(\"No handler for the '\" + msg_type + \"' message type: \", msg);\n",
       "            return;\n",
       "        }\n",
       "\n",
       "        if (callback) {\n",
       "            try {\n",
       "                // console.log(\"Handling '\" + msg_type + \"' message: \", msg);\n",
       "                callback(fig, msg);\n",
       "            } catch (e) {\n",
       "                console.log(\"Exception inside the 'handler_\" + msg_type + \"' callback:\", e, e.stack, msg);\n",
       "            }\n",
       "        }\n",
       "    };\n",
       "}\n",
       "\n",
       "// from http://stackoverflow.com/questions/1114465/getting-mouse-location-in-canvas\n",
       "mpl.findpos = function(e) {\n",
       "    //this section is from http://www.quirksmode.org/js/events_properties.html\n",
       "    var targ;\n",
       "    if (!e)\n",
       "        e = window.event;\n",
       "    if (e.target)\n",
       "        targ = e.target;\n",
       "    else if (e.srcElement)\n",
       "        targ = e.srcElement;\n",
       "    if (targ.nodeType == 3) // defeat Safari bug\n",
       "        targ = targ.parentNode;\n",
       "\n",
       "    // jQuery normalizes the pageX and pageY\n",
       "    // pageX,Y are the mouse positions relative to the document\n",
       "    // offset() returns the position of the element relative to the document\n",
       "    var x = e.pageX - $(targ).offset().left;\n",
       "    var y = e.pageY - $(targ).offset().top;\n",
       "\n",
       "    return {\"x\": x, \"y\": y};\n",
       "};\n",
       "\n",
       "mpl.figure.prototype.mouse_event = function(event, name) {\n",
       "    var canvas_pos = mpl.findpos(event)\n",
       "\n",
       "    if (name === 'button_press')\n",
       "    {\n",
       "        this.canvas.focus();\n",
       "        this.canvas_div.focus();\n",
       "    }\n",
       "\n",
       "    var x = canvas_pos.x;\n",
       "    var y = canvas_pos.y;\n",
       "\n",
       "    this.send_message(name, {x: x, y: y, button: event.button,\n",
       "                             step: event.step});\n",
       "\n",
       "    /* This prevents the web browser from automatically changing to\n",
       "     * the text insertion cursor when the button is pressed.  We want\n",
       "     * to control all of the cursor setting manually through the\n",
       "     * 'cursor' event from matplotlib */\n",
       "    event.preventDefault();\n",
       "    return false;\n",
       "}\n",
       "\n",
       "mpl.figure.prototype._key_event_extra = function(event, name) {\n",
       "    // Handle any extra behaviour associated with a key event\n",
       "}\n",
       "\n",
       "mpl.figure.prototype.key_event = function(event, name) {\n",
       "\n",
       "    // Prevent repeat events\n",
       "    if (name == 'key_press')\n",
       "    {\n",
       "        if (event.which === this._key)\n",
       "            return;\n",
       "        else\n",
       "            this._key = event.which;\n",
       "    }\n",
       "    if (name == 'key_release')\n",
       "        this._key = null;\n",
       "\n",
       "    var value = '';\n",
       "    if (event.ctrlKey && event.which != 17)\n",
       "        value += \"ctrl+\";\n",
       "    if (event.altKey && event.which != 18)\n",
       "        value += \"alt+\";\n",
       "    if (event.shiftKey && event.which != 16)\n",
       "        value += \"shift+\";\n",
       "\n",
       "    value += 'k';\n",
       "    value += event.which.toString();\n",
       "\n",
       "    this._key_event_extra(event, name);\n",
       "\n",
       "    this.send_message(name, {key: value});\n",
       "    return false;\n",
       "}\n",
       "\n",
       "mpl.figure.prototype.toolbar_button_onclick = function(name) {\n",
       "    if (name == 'download') {\n",
       "        this.handle_save(this, null);\n",
       "    } else {\n",
       "        this.send_message(\"toolbar_button\", {name: name});\n",
       "    }\n",
       "};\n",
       "\n",
       "mpl.figure.prototype.toolbar_button_onmouseover = function(tooltip) {\n",
       "    this.message.textContent = tooltip;\n",
       "};\n",
       "mpl.toolbar_items = [[\"Home\", \"Reset original view\", \"fa fa-home icon-home\", \"home\"], [\"Back\", \"Back to  previous view\", \"fa fa-arrow-left icon-arrow-left\", \"back\"], [\"Forward\", \"Forward to next view\", \"fa fa-arrow-right icon-arrow-right\", \"forward\"], [\"\", \"\", \"\", \"\"], [\"Pan\", \"Pan axes with left mouse, zoom with right\", \"fa fa-arrows icon-move\", \"pan\"], [\"Zoom\", \"Zoom to rectangle\", \"fa fa-square-o icon-check-empty\", \"zoom\"], [\"\", \"\", \"\", \"\"], [\"Download\", \"Download plot\", \"fa fa-floppy-o icon-save\", \"download\"]];\n",
       "\n",
       "mpl.extensions = [\"eps\", \"pdf\", \"png\", \"ps\", \"raw\", \"svg\"];\n",
       "\n",
       "mpl.default_extension = \"png\";var comm_websocket_adapter = function(comm) {\n",
       "    // Create a \"websocket\"-like object which calls the given IPython comm\n",
       "    // object with the appropriate methods. Currently this is a non binary\n",
       "    // socket, so there is still some room for performance tuning.\n",
       "    var ws = {};\n",
       "\n",
       "    ws.close = function() {\n",
       "        comm.close()\n",
       "    };\n",
       "    ws.send = function(m) {\n",
       "        //console.log('sending', m);\n",
       "        comm.send(m);\n",
       "    };\n",
       "    // Register the callback with on_msg.\n",
       "    comm.on_msg(function(msg) {\n",
       "        //console.log('receiving', msg['content']['data'], msg);\n",
       "        // Pass the mpl event to the overriden (by mpl) onmessage function.\n",
       "        ws.onmessage(msg['content']['data'])\n",
       "    });\n",
       "    return ws;\n",
       "}\n",
       "\n",
       "mpl.mpl_figure_comm = function(comm, msg) {\n",
       "    // This is the function which gets called when the mpl process\n",
       "    // starts-up an IPython Comm through the \"matplotlib\" channel.\n",
       "\n",
       "    var id = msg.content.data.id;\n",
       "    // Get hold of the div created by the display call when the Comm\n",
       "    // socket was opened in Python.\n",
       "    var element = $(\"#\" + id);\n",
       "    var ws_proxy = comm_websocket_adapter(comm)\n",
       "\n",
       "    function ondownload(figure, format) {\n",
       "        window.open(figure.imageObj.src);\n",
       "    }\n",
       "\n",
       "    var fig = new mpl.figure(id, ws_proxy,\n",
       "                           ondownload,\n",
       "                           element.get(0));\n",
       "\n",
       "    // Call onopen now - mpl needs it, as it is assuming we've passed it a real\n",
       "    // web socket which is closed, not our websocket->open comm proxy.\n",
       "    ws_proxy.onopen();\n",
       "\n",
       "    fig.parent_element = element.get(0);\n",
       "    fig.cell_info = mpl.find_output_cell(\"<div id='\" + id + \"'></div>\");\n",
       "    if (!fig.cell_info) {\n",
       "        console.error(\"Failed to find cell for figure\", id, fig);\n",
       "        return;\n",
       "    }\n",
       "\n",
       "    var output_index = fig.cell_info[2]\n",
       "    var cell = fig.cell_info[0];\n",
       "\n",
       "};\n",
       "\n",
       "mpl.figure.prototype.handle_close = function(fig, msg) {\n",
       "    // Update the output cell to use the data from the current canvas.\n",
       "    fig.push_to_output();\n",
       "    var dataURL = fig.canvas.toDataURL();\n",
       "    // Re-enable the keyboard manager in IPython - without this line, in FF,\n",
       "    // the notebook keyboard shortcuts fail.\n",
       "    IPython.keyboard_manager.enable()\n",
       "    $(fig.parent_element).html('<img src=\"' + dataURL + '\">');\n",
       "    fig.send_message('closing', {});\n",
       "    fig.ws.close()\n",
       "}\n",
       "\n",
       "mpl.figure.prototype.push_to_output = function(remove_interactive) {\n",
       "    // Turn the data on the canvas into data in the output cell.\n",
       "    var dataURL = this.canvas.toDataURL();\n",
       "    this.cell_info[1]['text/html'] = '<img src=\"' + dataURL + '\">';\n",
       "}\n",
       "\n",
       "mpl.figure.prototype.updated_canvas_event = function() {\n",
       "    // Tell IPython that the notebook contents must change.\n",
       "    IPython.notebook.set_dirty(true);\n",
       "    this.send_message(\"ack\", {});\n",
       "    var fig = this;\n",
       "    // Wait a second, then push the new image to the DOM so\n",
       "    // that it is saved nicely (might be nice to debounce this).\n",
       "    setTimeout(function () { fig.push_to_output() }, 1000);\n",
       "}\n",
       "\n",
       "mpl.figure.prototype._init_toolbar = function() {\n",
       "    var fig = this;\n",
       "\n",
       "    var nav_element = $('<div/>')\n",
       "    nav_element.attr('style', 'width: 100%');\n",
       "    this.root.append(nav_element);\n",
       "\n",
       "    // Define a callback function for later on.\n",
       "    function toolbar_event(event) {\n",
       "        return fig.toolbar_button_onclick(event['data']);\n",
       "    }\n",
       "    function toolbar_mouse_event(event) {\n",
       "        return fig.toolbar_button_onmouseover(event['data']);\n",
       "    }\n",
       "\n",
       "    for(var toolbar_ind in mpl.toolbar_items){\n",
       "        var name = mpl.toolbar_items[toolbar_ind][0];\n",
       "        var tooltip = mpl.toolbar_items[toolbar_ind][1];\n",
       "        var image = mpl.toolbar_items[toolbar_ind][2];\n",
       "        var method_name = mpl.toolbar_items[toolbar_ind][3];\n",
       "\n",
       "        if (!name) { continue; };\n",
       "\n",
       "        var button = $('<button class=\"btn btn-default\" href=\"#\" title=\"' + name + '\"><i class=\"fa ' + image + ' fa-lg\"></i></button>');\n",
       "        button.click(method_name, toolbar_event);\n",
       "        button.mouseover(tooltip, toolbar_mouse_event);\n",
       "        nav_element.append(button);\n",
       "    }\n",
       "\n",
       "    // Add the status bar.\n",
       "    var status_bar = $('<span class=\"mpl-message\" style=\"text-align:right; float: right;\"/>');\n",
       "    nav_element.append(status_bar);\n",
       "    this.message = status_bar[0];\n",
       "\n",
       "    // Add the close button to the window.\n",
       "    var buttongrp = $('<div class=\"btn-group inline pull-right\"></div>');\n",
       "    var button = $('<button class=\"btn btn-mini btn-danger\" href=\"#\" title=\"Close figure\"><i class=\"fa fa-times icon-remove icon-large\"></i></button>');\n",
       "    button.click(function (evt) { fig.handle_close(fig, {}); } );\n",
       "    button.mouseover('Close figure', toolbar_mouse_event);\n",
       "    buttongrp.append(button);\n",
       "    var titlebar = this.root.find($('.ui-dialog-titlebar'));\n",
       "    titlebar.prepend(buttongrp);\n",
       "}\n",
       "\n",
       "\n",
       "mpl.figure.prototype._canvas_extra_style = function(el){\n",
       "    // this is important to make the div 'focusable\n",
       "    el.attr('tabindex', 0)\n",
       "    // reach out to IPython and tell the keyboard manager to turn it's self\n",
       "    // off when our div gets focus\n",
       "\n",
       "    // location in version 3\n",
       "    if (IPython.notebook.keyboard_manager) {\n",
       "        IPython.notebook.keyboard_manager.register_events(el);\n",
       "    }\n",
       "    else {\n",
       "        // location in version 2\n",
       "        IPython.keyboard_manager.register_events(el);\n",
       "    }\n",
       "\n",
       "}\n",
       "\n",
       "mpl.figure.prototype._key_event_extra = function(event, name) {\n",
       "    var manager = IPython.notebook.keyboard_manager;\n",
       "    if (!manager)\n",
       "        manager = IPython.keyboard_manager;\n",
       "\n",
       "    // Check for shift+enter\n",
       "    if (event.shiftKey && event.which == 13) {\n",
       "        this.canvas_div.blur();\n",
       "        event.shiftKey = false;\n",
       "        // Send a \"J\" for go to next cell\n",
       "        event.which = 74;\n",
       "        event.keyCode = 74;\n",
       "        manager.command_mode();\n",
       "        manager.handle_keydown(event);\n",
       "    }\n",
       "}\n",
       "\n",
       "mpl.figure.prototype.handle_save = function(fig, msg) {\n",
       "    fig.ondownload(fig, null);\n",
       "}\n",
       "\n",
       "\n",
       "mpl.find_output_cell = function(html_output) {\n",
       "    // Return the cell and output element which can be found *uniquely* in the notebook.\n",
       "    // Note - this is a bit hacky, but it is done because the \"notebook_saving.Notebook\"\n",
       "    // IPython event is triggered only after the cells have been serialised, which for\n",
       "    // our purposes (turning an active figure into a static one), is too late.\n",
       "    var cells = IPython.notebook.get_cells();\n",
       "    var ncells = cells.length;\n",
       "    for (var i=0; i<ncells; i++) {\n",
       "        var cell = cells[i];\n",
       "        if (cell.cell_type === 'code'){\n",
       "            for (var j=0; j<cell.output_area.outputs.length; j++) {\n",
       "                var data = cell.output_area.outputs[j];\n",
       "                if (data.data) {\n",
       "                    // IPython >= 3 moved mimebundle to data attribute of output\n",
       "                    data = data.data;\n",
       "                }\n",
       "                if (data['text/html'] == html_output) {\n",
       "                    return [cell, data, j];\n",
       "                }\n",
       "            }\n",
       "        }\n",
       "    }\n",
       "}\n",
       "\n",
       "// Register the function which deals with the matplotlib target/channel.\n",
       "// The kernel may be null if the page has been refreshed.\n",
       "if (IPython.notebook.kernel != null) {\n",
       "    IPython.notebook.kernel.comm_manager.register_target('matplotlib', mpl.mpl_figure_comm);\n",
       "}\n"
      ],
      "text/plain": [
       "<IPython.core.display.Javascript object>"
      ]
     },
     "metadata": {},
     "output_type": "display_data"
    },
    {
     "data": {
      "text/html": [
       "<img src=\"data:image/png;base64,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\">"
      ],
      "text/plain": [
       "<IPython.core.display.HTML object>"
      ]
     },
     "metadata": {},
     "output_type": "display_data"
    }
   ],
   "source": [
    "%matplotlib notebook\n",
    "from mpl_toolkits.mplot3d import Axes3D\n",
    "fig = plt.figure()\n",
    "ax = Axes3D(fig)\n",
    "\n",
    "plot_gtoc8(s1, s2, s3, ax, catalogue)"
   ]
  },
  {
   "cell_type": "markdown",
   "metadata": {},
   "source": [
    "Ahora vamos a propagar la órbita de los satélites en el tiempo dado:"
   ]
  },
  {
   "cell_type": "code",
   "execution_count": 161,
   "metadata": {
    "collapsed": true
   },
   "outputs": [],
   "source": [
    "u1 = state_to_vector(ss_A)\n",
    "u2 = state_to_vector(ss_B)\n",
    "u3 = state_to_vector(ss_C)"
   ]
  },
  {
   "cell_type": "code",
   "execution_count": 185,
   "metadata": {
    "collapsed": true
   },
   "outputs": [],
   "source": [
    "sol1 = integrate_rk4_numba(t, u1)\n",
    "sol2 = integrate_rk4_numba(t, u2)\n",
    "sol3 = integrate_rk4_numba(t, u3)"
   ]
  },
  {
   "cell_type": "markdown",
   "metadata": {},
   "source": [
    "Representamos la distancia angular de **una** radiofuente concreta al vector de observación en función del tiempo"
   ]
  },
  {
   "cell_type": "code",
   "execution_count": 186,
   "metadata": {
    "collapsed": false
   },
   "outputs": [
    {
     "name": "stdout",
     "output_type": "stream",
     "text": [
      "The slowest run took 4.79 times longer than the fastest. This could mean that an intermediate result is being cached \n",
      "10000 loops, best of 3: 134 µs per loop\n"
     ]
    }
   ],
   "source": [
    "%timeit lib.observation_triangle(s1, s2, s3)"
   ]
  },
  {
   "cell_type": "code",
   "execution_count": 195,
   "metadata": {
    "collapsed": false
   },
   "outputs": [
    {
     "data": {
      "text/plain": [
       "RA (deg)      5.49574\n",
       "DEC (deg)    80.50522\n",
       "Name: 413.0, dtype: float64"
      ]
     },
     "execution_count": 195,
     "metadata": {},
     "output_type": "execute_result"
    }
   ],
   "source": [
    "catalogue.iloc[412]"
   ]
  },
  {
   "cell_type": "code",
   "execution_count": null,
   "metadata": {
    "collapsed": false
   },
   "outputs": [],
   "source": [
    "dist_one = np.zeros((len(t), len(catalogue)))\n",
    "for ii in range(len(t)):\n",
    "    s1 = sol1[ii, :3]\n",
    "    s2 = sol2[ii, :3]\n",
    "    s3 = sol3[ii, :3]\n",
    "    vec, _ = lib.observation_triangle(s1, s2, s3)\n",
    "    for jj in range(len(catalogue)):\n",
    "        ra, dec = np.deg2rad(catalogue.iloc[jj].values)\n",
    "        dist_one[ii, jj] = lib.distance_radio_source(vec, ra, dec)"
   ]
  },
  {
   "cell_type": "code",
   "execution_count": null,
   "metadata": {
    "collapsed": false
   },
   "outputs": [],
   "source": [
    "for jj in range(len(catalogue)):\n",
    "    plt.plot(t.value, dist_one[:, jj])"
   ]
  },
  {
   "cell_type": "code",
   "execution_count": null,
   "metadata": {
    "collapsed": false
   },
   "outputs": [],
   "source": [
    "dist_one.max()"
   ]
  },
  {
   "cell_type": "code",
   "execution_count": null,
   "metadata": {
    "collapsed": false
   },
   "outputs": [],
   "source": [
    "dist_one.min()"
   ]
  },
  {
   "cell_type": "code",
   "execution_count": null,
   "metadata": {
    "collapsed": false
   },
   "outputs": [],
   "source": [
    "(np.arccos(dist_one.max()) * u.rad).to(u.deg)"
   ]
  },
  {
   "cell_type": "markdown",
   "metadata": {},
   "source": [
    "Conclusiones:\n",
    "\n",
    "* Las distancias angulares evolucionan poquísimo en períodos muy largos incluso con diferencias de inclinación apreciables entre las órbitas\n",
    "* La integración y evaluación de las distancias angulares, incluso sin empuje alguno, lleva tiempos del orden de 15 minutos"
   ]
  }
 ],
 "metadata": {
  "kernelspec": {
   "display_name": "Python 2",
   "language": "python",
   "name": "python2"
  },
  "language_info": {
   "codemirror_mode": {
    "name": "ipython",
    "version": 2
   },
   "file_extension": ".py",
   "mimetype": "text/x-python",
   "name": "python",
   "nbconvert_exporter": "python",
   "pygments_lexer": "ipython2",
   "version": "2.7.10"
  }
 },
 "nbformat": 4,
 "nbformat_minor": 0
}
